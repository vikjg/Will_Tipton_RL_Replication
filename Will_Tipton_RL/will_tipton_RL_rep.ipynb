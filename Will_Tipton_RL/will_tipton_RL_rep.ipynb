{
 "cells": [
  {
   "cell_type": "code",
   "execution_count": 1,
   "id": "2a4948d0",
   "metadata": {},
   "outputs": [],
   "source": [
    "numHoldemHands = 1326  # nchoosek(52,2)\n",
    "ranks = ['2','3','4','5','6','7','8','9','T','J','Q','K','A']\n",
    "suits=['c','s','d','h']\n",
    "numRanks = len(ranks)\n",
    "numSuits = len(suits)\n",
    "\n",
    "# Input: N/A\n",
    "# Output:\n",
    "#   A map from int hand representation in [0,1235] to tuple of form\n",
    "#   (rank1, rank2, isSuited).\n",
    "def makeIntToHandMap():\n",
    "    result = [0 for i in range(numHoldemHands)]\n",
    "    c = 0\n",
    "    for r1 in range(numRanks):\n",
    "        for r2 in range(r1, numRanks):\n",
    "            for s1 in range(numSuits):\n",
    "                for s2 in range(numSuits):\n",
    "                    if r1 == r2 and s1 >= s2:\n",
    "                        continue\n",
    "                    # hand number c corresponds to holding\n",
    "                    # ranks[r2], suits[s2], ranks[r1], suits[s1]\n",
    "                    result[c] = (r2, r1, s1 == s2)\n",
    "                    c += 1\n",
    "    return result\n",
    "\n",
    "intToHandMap = makeIntToHandMap()"
   ]
  },
  {
   "cell_type": "code",
   "execution_count": 2,
   "id": "6db5ef54",
   "metadata": {},
   "outputs": [],
   "source": [
    "import numpy as np\n",
    "pfeqs = np.loadtxt(\"pf_eqs.dat\")\n",
    "pfconfl = np.loadtxt(\"pf_confl.dat\")"
   ]
  },
  {
   "cell_type": "code",
   "execution_count": 3,
   "id": "9575a926",
   "metadata": {},
   "outputs": [],
   "source": [
    "# Input:\n",
    "#   nHands: total number of simulations we plan to run\n",
    "#   i: current simulation number\n",
    "# Output:\n",
    "#   Fraction of the time we should choose our action randomly.\n",
    "def epsilon(nHands, i):\n",
    "    return (nHands - i) / nHands"
   ]
  },
  {
   "cell_type": "code",
   "execution_count": 4,
   "id": "a0dfaef5",
   "metadata": {},
   "outputs": [],
   "source": [
    "nParams = 7\n",
    "\n",
    "# Input:\n",
    "#   hand: int hand between 0 and 1325\n",
    "#   isSB: boolean indicating whether position is SB, else BB\n",
    "#   isGII: boolean indicating whether action is GII, else FOLD\n",
    "# Output:\n",
    "#   numpy array containing features describing a state and action\n",
    "def phi(hand, isSB, isGII):\n",
    "    rank2, rank1, isSuited = intToHandMap[hand]\n",
    "    return np.array([1,\n",
    "                     rank2/numRanks if isGII else 0,\n",
    "                     rank1/numRanks if isGII else 0,\n",
    "                     abs(rank2-rank1)**0.25 if isGII else 0,\n",
    "                     1 if (isSuited and isGII) else 0,\n",
    "                     1 if isSB else 0,\n",
    "                     1 if isSB and isGII else 0,\n",
    "                    ], dtype=np.float64)"
   ]
  },
  {
   "cell_type": "code",
   "execution_count": 5,
   "id": "b8a6d8dc",
   "metadata": {},
   "outputs": [],
   "source": [
    "# Inputs:\n",
    "#   theta: vector of parameters of our model\n",
    "#   phi: vector of features\n",
    "# Output:\n",
    "#   Qhat(phi; theta), an estimate of the action-value\n",
    "def evalModel(theta, phi):\n",
    "    return np.sum(theta * phi)"
   ]
  },
  {
   "cell_type": "code",
   "execution_count": 6,
   "id": "396998cc",
   "metadata": {},
   "outputs": [],
   "source": [
    "# Input: N/A\n",
    "# Output: tuple of two random hand numbers representing hands\n",
    "#         that don't conflict.\n",
    "def dealCards():\n",
    "    hand1 = hand2 = 0\n",
    "    while not pfconfl[hand1, hand2]:\n",
    "        hand1 = np.random.randint(0, numHoldemHands)\n",
    "        hand2 = np.random.randint(0, numHoldemHands)\n",
    "    return hand1, hand2"
   ]
  },
  {
   "cell_type": "code",
   "execution_count": 7,
   "id": "7c9c65d2",
   "metadata": {},
   "outputs": [],
   "source": [
    "# Input:\n",
    "#   theta: parameter for current model Qhat\n",
    "#   hand: hand number\n",
    "#   isSB: boolean position\n",
    "#   epsilon: chance of making a random move\n",
    "# Output:\n",
    "#   A tuple of form (isGII, qhat, phi) describing the action\n",
    "#   taken, its value, and its feature vector.\n",
    "def act(theta, hand, isSB, epsilon):\n",
    "    phiGII = phi(hand, isSB, True)\n",
    "    phiFOLD = phi(hand, isSB, False)\n",
    "    qGII = evalModel(theta, phiGII)\n",
    "    qFOLD = evalModel(theta, phiFOLD)\n",
    "    isGII = qGII > qFOLD\n",
    "    if np.random.rand() < epsilon/2:\n",
    "        isGII = not isGII\n",
    "    if isGII:\n",
    "        return isGII, qGII, phiGII\n",
    "    else:\n",
    "        return isGII, qFOLD, phiFOLD"
   ]
  },
  {
   "cell_type": "code",
   "execution_count": 8,
   "id": "5c354108",
   "metadata": {},
   "outputs": [],
   "source": [
    "# Input:\n",
    "#   S: stack size at the beginning of the hand\n",
    "#   sbHand: SB hand number\n",
    "#   sbIsGII: boolean indicating SB's action\n",
    "#   bbHand: BB hand number\n",
    "#   bbIsGII: boolean indicating BB's action\n",
    "# Output:\n",
    "#   A tuple of the form (SB value, BB value) indicating each player's\n",
    "#   stack size at the end of the hand.\n",
    "def simulateHand(S, sbHand, sbIsGII, bbHand, bbIsGII):\n",
    "    if not sbIsGII:\n",
    "        return (S-0.5, S+0.5)\n",
    "    if not bbIsGII:\n",
    "        return (S+1, S-1)\n",
    "    # GII. Note: neglecting chops!\n",
    "    sbEquity = pfeqs[sbHand, bbHand]\n",
    "    if np.random.rand() < sbEquity:\n",
    "        return (2*S, 0)\n",
    "    return (0, 2*S)"
   ]
  },
  {
   "cell_type": "code",
   "execution_count": 9,
   "id": "5e9e34a5",
   "metadata": {},
   "outputs": [],
   "source": [
    "# Input:\n",
    "#   S: effective stack size in BB\n",
    "#   nHands: number of random hands to play\n",
    "#   alpha: learning rate hyperparameter\n",
    "# Output:\n",
    "#   An 7-vector of weights parameterizing our linear model\n",
    "def mc(S, nHands, alpha):\n",
    "    # Start with a random guess for theta.\n",
    "    theta = np.random.rand(nParams)\n",
    "    for i in range (nHands):\n",
    "        sbHand, bbHand = dealCards()\n",
    "        # SB action\n",
    "        sbIsGII, sbQhat, sbPhi = act(theta, sbHand, True, epsilon(nHands, i))\n",
    "        # BB action\n",
    "        bbIsGII, bbQhat, bbPhi = act(theta, bbHand, False, epsilon(nHands, i))\n",
    "        # get result from environment\n",
    "        sbReward, bbReward = simulateHand(S, sbHand, sbIsGII, bbHand, bbIsGII)\n",
    "        # update the model using each player's results\n",
    "        theta += alpha * (sbReward-sbQhat) * sbPhi\n",
    "        theta += alpha * (bbReward-bbQhat) * bbPhi\n",
    "    return theta"
   ]
  },
  {
   "cell_type": "code",
   "execution_count": 10,
   "id": "a6636869",
   "metadata": {
    "scrolled": true
   },
   "outputs": [
    {
     "name": "stdout",
     "output_type": "stream",
     "text": [
      "[ 9.63958991  6.21393165 -1.32694147 -2.80947114  0.19823468 -0.09965523\n",
      "  0.16079095]\n"
     ]
    }
   ],
   "source": [
    "theta = mc(10, 10000000, 0.0001)\n",
    "print(theta)"
   ]
  },
  {
   "cell_type": "code",
   "execution_count": 11,
   "id": "532b230e",
   "metadata": {},
   "outputs": [],
   "source": [
    "sbGIIRange = np.zeros(numHoldemHands)\n",
    "bbGIIRange = np.zeros(numHoldemHands)\n",
    "\n",
    "for i in range(numHoldemHands):\n",
    "    for isSB, r in [(True, sbGIIRange), (False, bbGIIRange)]:\n",
    "        qHatGII = evalModel(theta, phi(i, isSB, True))\n",
    "        qHatFOLD = evalModel(theta, phi(i, isSB, False))\n",
    "        r[i] = 1 if qHatGII > qHatFOLD else 0"
   ]
  },
  {
   "cell_type": "code",
   "execution_count": 12,
   "id": "112e9eb1",
   "metadata": {},
   "outputs": [
    {
     "name": "stdout",
     "output_type": "stream",
     "text": [
      "0.5173453996983409\n",
      "0.45248868778280543\n"
     ]
    }
   ],
   "source": [
    "print(np.sum(sbGIIRange)/numHoldemHands)\n",
    "print(np.sum(bbGIIRange)/numHoldemHands)"
   ]
  },
  {
   "cell_type": "code",
   "execution_count": 13,
   "id": "db4cc597",
   "metadata": {},
   "outputs": [
    {
     "data": {
      "image/svg+xml": [
       "<svg xmlns=\"http://www.w3.org/2000/svg\" version=\"1.1\" width=\"325\" height=\"325\"><rect x=\"300\" y=\"300\" width=\"25\" height=\"25\" fill=\"#00ff00\"/><text x=\"300\" y=\"315\" font-size=\"11\">22o</text><rect x=\"300\" y=\"275\" width=\"25\" height=\"25\" fill=\"#ffffff\"/><text x=\"300\" y=\"290\" font-size=\"11\">32s</text><rect x=\"300\" y=\"250\" width=\"25\" height=\"25\" fill=\"#ffffff\"/><text x=\"300\" y=\"265\" font-size=\"11\">42s</text><rect x=\"300\" y=\"225\" width=\"25\" height=\"25\" fill=\"#ffffff\"/><text x=\"300\" y=\"240\" font-size=\"11\">52s</text><rect x=\"300\" y=\"200\" width=\"25\" height=\"25\" fill=\"#ffffff\"/><text x=\"300\" y=\"215\" font-size=\"11\">62s</text><rect x=\"300\" y=\"175\" width=\"25\" height=\"25\" fill=\"#ffffff\"/><text x=\"300\" y=\"190\" font-size=\"11\">72s</text><rect x=\"300\" y=\"150\" width=\"25\" height=\"25\" fill=\"#ffffff\"/><text x=\"300\" y=\"165\" font-size=\"11\">82s</text><rect x=\"300\" y=\"125\" width=\"25\" height=\"25\" fill=\"#ffffff\"/><text x=\"300\" y=\"140\" font-size=\"11\">92s</text><rect x=\"300\" y=\"100\" width=\"25\" height=\"25\" fill=\"#ffffff\"/><text x=\"300\" y=\"115\" font-size=\"11\">T2s</text><rect x=\"300\" y=\"75\" width=\"25\" height=\"25\" fill=\"#ffffff\"/><text x=\"300\" y=\"90\" font-size=\"11\">J2s</text><rect x=\"300\" y=\"50\" width=\"25\" height=\"25\" fill=\"#00ff00\"/><text x=\"300\" y=\"65\" font-size=\"11\">Q2s</text><rect x=\"300\" y=\"25\" width=\"25\" height=\"25\" fill=\"#00ff00\"/><text x=\"300\" y=\"40\" font-size=\"11\">K2s</text><rect x=\"300\" y=\"0\" width=\"25\" height=\"25\" fill=\"#00ff00\"/><text x=\"300\" y=\"15\" font-size=\"11\">A2s</text><rect x=\"275\" y=\"300\" width=\"25\" height=\"25\" fill=\"#ffffff\"/><text x=\"275\" y=\"315\" font-size=\"11\">32o</text><rect x=\"275\" y=\"275\" width=\"25\" height=\"25\" fill=\"#00ff00\"/><text x=\"275\" y=\"290\" font-size=\"11\">33o</text><rect x=\"275\" y=\"250\" width=\"25\" height=\"25\" fill=\"#ffffff\"/><text x=\"275\" y=\"265\" font-size=\"11\">43s</text><rect x=\"275\" y=\"225\" width=\"25\" height=\"25\" fill=\"#ffffff\"/><text x=\"275\" y=\"240\" font-size=\"11\">53s</text><rect x=\"275\" y=\"200\" width=\"25\" height=\"25\" fill=\"#ffffff\"/><text x=\"275\" y=\"215\" font-size=\"11\">63s</text><rect x=\"275\" y=\"175\" width=\"25\" height=\"25\" fill=\"#ffffff\"/><text x=\"275\" y=\"190\" font-size=\"11\">73s</text><rect x=\"275\" y=\"150\" width=\"25\" height=\"25\" fill=\"#ffffff\"/><text x=\"275\" y=\"165\" font-size=\"11\">83s</text><rect x=\"275\" y=\"125\" width=\"25\" height=\"25\" fill=\"#ffffff\"/><text x=\"275\" y=\"140\" font-size=\"11\">93s</text><rect x=\"275\" y=\"100\" width=\"25\" height=\"25\" fill=\"#ffffff\"/><text x=\"275\" y=\"115\" font-size=\"11\">T3s</text><rect x=\"275\" y=\"75\" width=\"25\" height=\"25\" fill=\"#ffffff\"/><text x=\"275\" y=\"90\" font-size=\"11\">J3s</text><rect x=\"275\" y=\"50\" width=\"25\" height=\"25\" fill=\"#00ff00\"/><text x=\"275\" y=\"65\" font-size=\"11\">Q3s</text><rect x=\"275\" y=\"25\" width=\"25\" height=\"25\" fill=\"#00ff00\"/><text x=\"275\" y=\"40\" font-size=\"11\">K3s</text><rect x=\"275\" y=\"0\" width=\"25\" height=\"25\" fill=\"#00ff00\"/><text x=\"275\" y=\"15\" font-size=\"11\">A3s</text><rect x=\"250\" y=\"300\" width=\"25\" height=\"25\" fill=\"#ffffff\"/><text x=\"250\" y=\"315\" font-size=\"11\">42o</text><rect x=\"250\" y=\"275\" width=\"25\" height=\"25\" fill=\"#ffffff\"/><text x=\"250\" y=\"290\" font-size=\"11\">43o</text><rect x=\"250\" y=\"250\" width=\"25\" height=\"25\" fill=\"#00ff00\"/><text x=\"250\" y=\"265\" font-size=\"11\">44o</text><rect x=\"250\" y=\"225\" width=\"25\" height=\"25\" fill=\"#ffffff\"/><text x=\"250\" y=\"240\" font-size=\"11\">54s</text><rect x=\"250\" y=\"200\" width=\"25\" height=\"25\" fill=\"#ffffff\"/><text x=\"250\" y=\"215\" font-size=\"11\">64s</text><rect x=\"250\" y=\"175\" width=\"25\" height=\"25\" fill=\"#ffffff\"/><text x=\"250\" y=\"190\" font-size=\"11\">74s</text><rect x=\"250\" y=\"150\" width=\"25\" height=\"25\" fill=\"#ffffff\"/><text x=\"250\" y=\"165\" font-size=\"11\">84s</text><rect x=\"250\" y=\"125\" width=\"25\" height=\"25\" fill=\"#ffffff\"/><text x=\"250\" y=\"140\" font-size=\"11\">94s</text><rect x=\"250\" y=\"100\" width=\"25\" height=\"25\" fill=\"#ffffff\"/><text x=\"250\" y=\"115\" font-size=\"11\">T4s</text><rect x=\"250\" y=\"75\" width=\"25\" height=\"25\" fill=\"#ffffff\"/><text x=\"250\" y=\"90\" font-size=\"11\">J4s</text><rect x=\"250\" y=\"50\" width=\"25\" height=\"25\" fill=\"#00ff00\"/><text x=\"250\" y=\"65\" font-size=\"11\">Q4s</text><rect x=\"250\" y=\"25\" width=\"25\" height=\"25\" fill=\"#00ff00\"/><text x=\"250\" y=\"40\" font-size=\"11\">K4s</text><rect x=\"250\" y=\"0\" width=\"25\" height=\"25\" fill=\"#00ff00\"/><text x=\"250\" y=\"15\" font-size=\"11\">A4s</text><rect x=\"225\" y=\"300\" width=\"25\" height=\"25\" fill=\"#ffffff\"/><text x=\"225\" y=\"315\" font-size=\"11\">52o</text><rect x=\"225\" y=\"275\" width=\"25\" height=\"25\" fill=\"#ffffff\"/><text x=\"225\" y=\"290\" font-size=\"11\">53o</text><rect x=\"225\" y=\"250\" width=\"25\" height=\"25\" fill=\"#ffffff\"/><text x=\"225\" y=\"265\" font-size=\"11\">54o</text><rect x=\"225\" y=\"225\" width=\"25\" height=\"25\" fill=\"#00ff00\"/><text x=\"225\" y=\"240\" font-size=\"11\">55o</text><rect x=\"225\" y=\"200\" width=\"25\" height=\"25\" fill=\"#ffffff\"/><text x=\"225\" y=\"215\" font-size=\"11\">65s</text><rect x=\"225\" y=\"175\" width=\"25\" height=\"25\" fill=\"#ffffff\"/><text x=\"225\" y=\"190\" font-size=\"11\">75s</text><rect x=\"225\" y=\"150\" width=\"25\" height=\"25\" fill=\"#ffffff\"/><text x=\"225\" y=\"165\" font-size=\"11\">85s</text><rect x=\"225\" y=\"125\" width=\"25\" height=\"25\" fill=\"#ffffff\"/><text x=\"225\" y=\"140\" font-size=\"11\">95s</text><rect x=\"225\" y=\"100\" width=\"25\" height=\"25\" fill=\"#ffffff\"/><text x=\"225\" y=\"115\" font-size=\"11\">T5s</text><rect x=\"225\" y=\"75\" width=\"25\" height=\"25\" fill=\"#ffffff\"/><text x=\"225\" y=\"90\" font-size=\"11\">J5s</text><rect x=\"225\" y=\"50\" width=\"25\" height=\"25\" fill=\"#00ff00\"/><text x=\"225\" y=\"65\" font-size=\"11\">Q5s</text><rect x=\"225\" y=\"25\" width=\"25\" height=\"25\" fill=\"#00ff00\"/><text x=\"225\" y=\"40\" font-size=\"11\">K5s</text><rect x=\"225\" y=\"0\" width=\"25\" height=\"25\" fill=\"#00ff00\"/><text x=\"225\" y=\"15\" font-size=\"11\">A5s</text><rect x=\"200\" y=\"300\" width=\"25\" height=\"25\" fill=\"#ffffff\"/><text x=\"200\" y=\"315\" font-size=\"11\">62o</text><rect x=\"200\" y=\"275\" width=\"25\" height=\"25\" fill=\"#ffffff\"/><text x=\"200\" y=\"290\" font-size=\"11\">63o</text><rect x=\"200\" y=\"250\" width=\"25\" height=\"25\" fill=\"#ffffff\"/><text x=\"200\" y=\"265\" font-size=\"11\">64o</text><rect x=\"200\" y=\"225\" width=\"25\" height=\"25\" fill=\"#ffffff\"/><text x=\"200\" y=\"240\" font-size=\"11\">65o</text><rect x=\"200\" y=\"200\" width=\"25\" height=\"25\" fill=\"#00ff00\"/><text x=\"200\" y=\"215\" font-size=\"11\">66o</text><rect x=\"200\" y=\"175\" width=\"25\" height=\"25\" fill=\"#ffffff\"/><text x=\"200\" y=\"190\" font-size=\"11\">76s</text><rect x=\"200\" y=\"150\" width=\"25\" height=\"25\" fill=\"#ffffff\"/><text x=\"200\" y=\"165\" font-size=\"11\">86s</text><rect x=\"200\" y=\"125\" width=\"25\" height=\"25\" fill=\"#ffffff\"/><text x=\"200\" y=\"140\" font-size=\"11\">96s</text><rect x=\"200\" y=\"100\" width=\"25\" height=\"25\" fill=\"#ffffff\"/><text x=\"200\" y=\"115\" font-size=\"11\">T6s</text><rect x=\"200\" y=\"75\" width=\"25\" height=\"25\" fill=\"#00ff00\"/><text x=\"200\" y=\"90\" font-size=\"11\">J6s</text><rect x=\"200\" y=\"50\" width=\"25\" height=\"25\" fill=\"#00ff00\"/><text x=\"200\" y=\"65\" font-size=\"11\">Q6s</text><rect x=\"200\" y=\"25\" width=\"25\" height=\"25\" fill=\"#00ff00\"/><text x=\"200\" y=\"40\" font-size=\"11\">K6s</text><rect x=\"200\" y=\"0\" width=\"25\" height=\"25\" fill=\"#00ff00\"/><text x=\"200\" y=\"15\" font-size=\"11\">A6s</text><rect x=\"175\" y=\"300\" width=\"25\" height=\"25\" fill=\"#ffffff\"/><text x=\"175\" y=\"315\" font-size=\"11\">72o</text><rect x=\"175\" y=\"275\" width=\"25\" height=\"25\" fill=\"#ffffff\"/><text x=\"175\" y=\"290\" font-size=\"11\">73o</text><rect x=\"175\" y=\"250\" width=\"25\" height=\"25\" fill=\"#ffffff\"/><text x=\"175\" y=\"265\" font-size=\"11\">74o</text><rect x=\"175\" y=\"225\" width=\"25\" height=\"25\" fill=\"#ffffff\"/><text x=\"175\" y=\"240\" font-size=\"11\">75o</text><rect x=\"175\" y=\"200\" width=\"25\" height=\"25\" fill=\"#ffffff\"/><text x=\"175\" y=\"215\" font-size=\"11\">76o</text><rect x=\"175\" y=\"175\" width=\"25\" height=\"25\" fill=\"#00ff00\"/><text x=\"175\" y=\"190\" font-size=\"11\">77o</text><rect x=\"175\" y=\"150\" width=\"25\" height=\"25\" fill=\"#ffffff\"/><text x=\"175\" y=\"165\" font-size=\"11\">87s</text><rect x=\"175\" y=\"125\" width=\"25\" height=\"25\" fill=\"#ffffff\"/><text x=\"175\" y=\"140\" font-size=\"11\">97s</text><rect x=\"175\" y=\"100\" width=\"25\" height=\"25\" fill=\"#ffffff\"/><text x=\"175\" y=\"115\" font-size=\"11\">T7s</text><rect x=\"175\" y=\"75\" width=\"25\" height=\"25\" fill=\"#00ff00\"/><text x=\"175\" y=\"90\" font-size=\"11\">J7s</text><rect x=\"175\" y=\"50\" width=\"25\" height=\"25\" fill=\"#00ff00\"/><text x=\"175\" y=\"65\" font-size=\"11\">Q7s</text><rect x=\"175\" y=\"25\" width=\"25\" height=\"25\" fill=\"#00ff00\"/><text x=\"175\" y=\"40\" font-size=\"11\">K7s</text><rect x=\"175\" y=\"0\" width=\"25\" height=\"25\" fill=\"#00ff00\"/><text x=\"175\" y=\"15\" font-size=\"11\">A7s</text><rect x=\"150\" y=\"300\" width=\"25\" height=\"25\" fill=\"#ffffff\"/><text x=\"150\" y=\"315\" font-size=\"11\">82o</text><rect x=\"150\" y=\"275\" width=\"25\" height=\"25\" fill=\"#ffffff\"/><text x=\"150\" y=\"290\" font-size=\"11\">83o</text><rect x=\"150\" y=\"250\" width=\"25\" height=\"25\" fill=\"#ffffff\"/><text x=\"150\" y=\"265\" font-size=\"11\">84o</text><rect x=\"150\" y=\"225\" width=\"25\" height=\"25\" fill=\"#ffffff\"/><text x=\"150\" y=\"240\" font-size=\"11\">85o</text><rect x=\"150\" y=\"200\" width=\"25\" height=\"25\" fill=\"#ffffff\"/><text x=\"150\" y=\"215\" font-size=\"11\">86o</text><rect x=\"150\" y=\"175\" width=\"25\" height=\"25\" fill=\"#ffffff\"/><text x=\"150\" y=\"190\" font-size=\"11\">87o</text><rect x=\"150\" y=\"150\" width=\"25\" height=\"25\" fill=\"#00ff00\"/><text x=\"150\" y=\"165\" font-size=\"11\">88o</text><rect x=\"150\" y=\"125\" width=\"25\" height=\"25\" fill=\"#00ff00\"/><text x=\"150\" y=\"140\" font-size=\"11\">98s</text><rect x=\"150\" y=\"100\" width=\"25\" height=\"25\" fill=\"#00ff00\"/><text x=\"150\" y=\"115\" font-size=\"11\">T8s</text><rect x=\"150\" y=\"75\" width=\"25\" height=\"25\" fill=\"#00ff00\"/><text x=\"150\" y=\"90\" font-size=\"11\">J8s</text><rect x=\"150\" y=\"50\" width=\"25\" height=\"25\" fill=\"#00ff00\"/><text x=\"150\" y=\"65\" font-size=\"11\">Q8s</text><rect x=\"150\" y=\"25\" width=\"25\" height=\"25\" fill=\"#00ff00\"/><text x=\"150\" y=\"40\" font-size=\"11\">K8s</text><rect x=\"150\" y=\"0\" width=\"25\" height=\"25\" fill=\"#00ff00\"/><text x=\"150\" y=\"15\" font-size=\"11\">A8s</text><rect x=\"125\" y=\"300\" width=\"25\" height=\"25\" fill=\"#ffffff\"/><text x=\"125\" y=\"315\" font-size=\"11\">92o</text><rect x=\"125\" y=\"275\" width=\"25\" height=\"25\" fill=\"#ffffff\"/><text x=\"125\" y=\"290\" font-size=\"11\">93o</text><rect x=\"125\" y=\"250\" width=\"25\" height=\"25\" fill=\"#ffffff\"/><text x=\"125\" y=\"265\" font-size=\"11\">94o</text><rect x=\"125\" y=\"225\" width=\"25\" height=\"25\" fill=\"#ffffff\"/><text x=\"125\" y=\"240\" font-size=\"11\">95o</text><rect x=\"125\" y=\"200\" width=\"25\" height=\"25\" fill=\"#ffffff\"/><text x=\"125\" y=\"215\" font-size=\"11\">96o</text><rect x=\"125\" y=\"175\" width=\"25\" height=\"25\" fill=\"#ffffff\"/><text x=\"125\" y=\"190\" font-size=\"11\">97o</text><rect x=\"125\" y=\"150\" width=\"25\" height=\"25\" fill=\"#00ff00\"/><text x=\"125\" y=\"165\" font-size=\"11\">98o</text><rect x=\"125\" y=\"125\" width=\"25\" height=\"25\" fill=\"#00ff00\"/><text x=\"125\" y=\"140\" font-size=\"11\">99o</text><rect x=\"125\" y=\"100\" width=\"25\" height=\"25\" fill=\"#00ff00\"/><text x=\"125\" y=\"115\" font-size=\"11\">T9s</text><rect x=\"125\" y=\"75\" width=\"25\" height=\"25\" fill=\"#00ff00\"/><text x=\"125\" y=\"90\" font-size=\"11\">J9s</text><rect x=\"125\" y=\"50\" width=\"25\" height=\"25\" fill=\"#00ff00\"/><text x=\"125\" y=\"65\" font-size=\"11\">Q9s</text><rect x=\"125\" y=\"25\" width=\"25\" height=\"25\" fill=\"#00ff00\"/><text x=\"125\" y=\"40\" font-size=\"11\">K9s</text><rect x=\"125\" y=\"0\" width=\"25\" height=\"25\" fill=\"#00ff00\"/><text x=\"125\" y=\"15\" font-size=\"11\">A9s</text><rect x=\"100\" y=\"300\" width=\"25\" height=\"25\" fill=\"#ffffff\"/><text x=\"100\" y=\"315\" font-size=\"11\">T2o</text><rect x=\"100\" y=\"275\" width=\"25\" height=\"25\" fill=\"#ffffff\"/><text x=\"100\" y=\"290\" font-size=\"11\">T3o</text><rect x=\"100\" y=\"250\" width=\"25\" height=\"25\" fill=\"#ffffff\"/><text x=\"100\" y=\"265\" font-size=\"11\">T4o</text><rect x=\"100\" y=\"225\" width=\"25\" height=\"25\" fill=\"#ffffff\"/><text x=\"100\" y=\"240\" font-size=\"11\">T5o</text><rect x=\"100\" y=\"200\" width=\"25\" height=\"25\" fill=\"#ffffff\"/><text x=\"100\" y=\"215\" font-size=\"11\">T6o</text><rect x=\"100\" y=\"175\" width=\"25\" height=\"25\" fill=\"#ffffff\"/><text x=\"100\" y=\"190\" font-size=\"11\">T7o</text><rect x=\"100\" y=\"150\" width=\"25\" height=\"25\" fill=\"#00ff00\"/><text x=\"100\" y=\"165\" font-size=\"11\">T8o</text><rect x=\"100\" y=\"125\" width=\"25\" height=\"25\" fill=\"#00ff00\"/><text x=\"100\" y=\"140\" font-size=\"11\">T9o</text><rect x=\"100\" y=\"100\" width=\"25\" height=\"25\" fill=\"#00ff00\"/><text x=\"100\" y=\"115\" font-size=\"11\">TTo</text><rect x=\"100\" y=\"75\" width=\"25\" height=\"25\" fill=\"#00ff00\"/><text x=\"100\" y=\"90\" font-size=\"11\">JTs</text><rect x=\"100\" y=\"50\" width=\"25\" height=\"25\" fill=\"#00ff00\"/><text x=\"100\" y=\"65\" font-size=\"11\">QTs</text><rect x=\"100\" y=\"25\" width=\"25\" height=\"25\" fill=\"#00ff00\"/><text x=\"100\" y=\"40\" font-size=\"11\">KTs</text><rect x=\"100\" y=\"0\" width=\"25\" height=\"25\" fill=\"#00ff00\"/><text x=\"100\" y=\"15\" font-size=\"11\">ATs</text><rect x=\"75\" y=\"300\" width=\"25\" height=\"25\" fill=\"#ffffff\"/><text x=\"75\" y=\"315\" font-size=\"11\">J2o</text><rect x=\"75\" y=\"275\" width=\"25\" height=\"25\" fill=\"#ffffff\"/><text x=\"75\" y=\"290\" font-size=\"11\">J3o</text><rect x=\"75\" y=\"250\" width=\"25\" height=\"25\" fill=\"#ffffff\"/><text x=\"75\" y=\"265\" font-size=\"11\">J4o</text><rect x=\"75\" y=\"225\" width=\"25\" height=\"25\" fill=\"#ffffff\"/><text x=\"75\" y=\"240\" font-size=\"11\">J5o</text><rect x=\"75\" y=\"200\" width=\"25\" height=\"25\" fill=\"#ffffff\"/><text x=\"75\" y=\"215\" font-size=\"11\">J6o</text><rect x=\"75\" y=\"175\" width=\"25\" height=\"25\" fill=\"#ffffff\"/><text x=\"75\" y=\"190\" font-size=\"11\">J7o</text><rect x=\"75\" y=\"150\" width=\"25\" height=\"25\" fill=\"#00ff00\"/><text x=\"75\" y=\"165\" font-size=\"11\">J8o</text><rect x=\"75\" y=\"125\" width=\"25\" height=\"25\" fill=\"#00ff00\"/><text x=\"75\" y=\"140\" font-size=\"11\">J9o</text><rect x=\"75\" y=\"100\" width=\"25\" height=\"25\" fill=\"#00ff00\"/><text x=\"75\" y=\"115\" font-size=\"11\">JTo</text><rect x=\"75\" y=\"75\" width=\"25\" height=\"25\" fill=\"#00ff00\"/><text x=\"75\" y=\"90\" font-size=\"11\">JJo</text><rect x=\"75\" y=\"50\" width=\"25\" height=\"25\" fill=\"#00ff00\"/><text x=\"75\" y=\"65\" font-size=\"11\">QJs</text><rect x=\"75\" y=\"25\" width=\"25\" height=\"25\" fill=\"#00ff00\"/><text x=\"75\" y=\"40\" font-size=\"11\">KJs</text><rect x=\"75\" y=\"0\" width=\"25\" height=\"25\" fill=\"#00ff00\"/><text x=\"75\" y=\"15\" font-size=\"11\">AJs</text><rect x=\"50\" y=\"300\" width=\"25\" height=\"25\" fill=\"#ffffff\"/><text x=\"50\" y=\"315\" font-size=\"11\">Q2o</text><rect x=\"50\" y=\"275\" width=\"25\" height=\"25\" fill=\"#ffffff\"/><text x=\"50\" y=\"290\" font-size=\"11\">Q3o</text><rect x=\"50\" y=\"250\" width=\"25\" height=\"25\" fill=\"#00ff00\"/><text x=\"50\" y=\"265\" font-size=\"11\">Q4o</text><rect x=\"50\" y=\"225\" width=\"25\" height=\"25\" fill=\"#00ff00\"/><text x=\"50\" y=\"240\" font-size=\"11\">Q5o</text><rect x=\"50\" y=\"200\" width=\"25\" height=\"25\" fill=\"#00ff00\"/><text x=\"50\" y=\"215\" font-size=\"11\">Q6o</text><rect x=\"50\" y=\"175\" width=\"25\" height=\"25\" fill=\"#00ff00\"/><text x=\"50\" y=\"190\" font-size=\"11\">Q7o</text><rect x=\"50\" y=\"150\" width=\"25\" height=\"25\" fill=\"#00ff00\"/><text x=\"50\" y=\"165\" font-size=\"11\">Q8o</text><rect x=\"50\" y=\"125\" width=\"25\" height=\"25\" fill=\"#00ff00\"/><text x=\"50\" y=\"140\" font-size=\"11\">Q9o</text><rect x=\"50\" y=\"100\" width=\"25\" height=\"25\" fill=\"#00ff00\"/><text x=\"50\" y=\"115\" font-size=\"11\">QTo</text><rect x=\"50\" y=\"75\" width=\"25\" height=\"25\" fill=\"#00ff00\"/><text x=\"50\" y=\"90\" font-size=\"11\">QJo</text><rect x=\"50\" y=\"50\" width=\"25\" height=\"25\" fill=\"#00ff00\"/><text x=\"50\" y=\"65\" font-size=\"11\">QQo</text><rect x=\"50\" y=\"25\" width=\"25\" height=\"25\" fill=\"#00ff00\"/><text x=\"50\" y=\"40\" font-size=\"11\">KQs</text><rect x=\"50\" y=\"0\" width=\"25\" height=\"25\" fill=\"#00ff00\"/><text x=\"50\" y=\"15\" font-size=\"11\">AQs</text><rect x=\"25\" y=\"300\" width=\"25\" height=\"25\" fill=\"#00ff00\"/><text x=\"25\" y=\"315\" font-size=\"11\">K2o</text><rect x=\"25\" y=\"275\" width=\"25\" height=\"25\" fill=\"#00ff00\"/><text x=\"25\" y=\"290\" font-size=\"11\">K3o</text><rect x=\"25\" y=\"250\" width=\"25\" height=\"25\" fill=\"#00ff00\"/><text x=\"25\" y=\"265\" font-size=\"11\">K4o</text><rect x=\"25\" y=\"225\" width=\"25\" height=\"25\" fill=\"#00ff00\"/><text x=\"25\" y=\"240\" font-size=\"11\">K5o</text><rect x=\"25\" y=\"200\" width=\"25\" height=\"25\" fill=\"#00ff00\"/><text x=\"25\" y=\"215\" font-size=\"11\">K6o</text><rect x=\"25\" y=\"175\" width=\"25\" height=\"25\" fill=\"#00ff00\"/><text x=\"25\" y=\"190\" font-size=\"11\">K7o</text><rect x=\"25\" y=\"150\" width=\"25\" height=\"25\" fill=\"#00ff00\"/><text x=\"25\" y=\"165\" font-size=\"11\">K8o</text><rect x=\"25\" y=\"125\" width=\"25\" height=\"25\" fill=\"#00ff00\"/><text x=\"25\" y=\"140\" font-size=\"11\">K9o</text><rect x=\"25\" y=\"100\" width=\"25\" height=\"25\" fill=\"#00ff00\"/><text x=\"25\" y=\"115\" font-size=\"11\">KTo</text><rect x=\"25\" y=\"75\" width=\"25\" height=\"25\" fill=\"#00ff00\"/><text x=\"25\" y=\"90\" font-size=\"11\">KJo</text><rect x=\"25\" y=\"50\" width=\"25\" height=\"25\" fill=\"#00ff00\"/><text x=\"25\" y=\"65\" font-size=\"11\">KQo</text><rect x=\"25\" y=\"25\" width=\"25\" height=\"25\" fill=\"#00ff00\"/><text x=\"25\" y=\"40\" font-size=\"11\">KKo</text><rect x=\"25\" y=\"0\" width=\"25\" height=\"25\" fill=\"#00ff00\"/><text x=\"25\" y=\"15\" font-size=\"11\">AKs</text><rect x=\"0\" y=\"300\" width=\"25\" height=\"25\" fill=\"#00ff00\"/><text x=\"0\" y=\"315\" font-size=\"11\">A2o</text><rect x=\"0\" y=\"275\" width=\"25\" height=\"25\" fill=\"#00ff00\"/><text x=\"0\" y=\"290\" font-size=\"11\">A3o</text><rect x=\"0\" y=\"250\" width=\"25\" height=\"25\" fill=\"#00ff00\"/><text x=\"0\" y=\"265\" font-size=\"11\">A4o</text><rect x=\"0\" y=\"225\" width=\"25\" height=\"25\" fill=\"#00ff00\"/><text x=\"0\" y=\"240\" font-size=\"11\">A5o</text><rect x=\"0\" y=\"200\" width=\"25\" height=\"25\" fill=\"#00ff00\"/><text x=\"0\" y=\"215\" font-size=\"11\">A6o</text><rect x=\"0\" y=\"175\" width=\"25\" height=\"25\" fill=\"#00ff00\"/><text x=\"0\" y=\"190\" font-size=\"11\">A7o</text><rect x=\"0\" y=\"150\" width=\"25\" height=\"25\" fill=\"#00ff00\"/><text x=\"0\" y=\"165\" font-size=\"11\">A8o</text><rect x=\"0\" y=\"125\" width=\"25\" height=\"25\" fill=\"#00ff00\"/><text x=\"0\" y=\"140\" font-size=\"11\">A9o</text><rect x=\"0\" y=\"100\" width=\"25\" height=\"25\" fill=\"#00ff00\"/><text x=\"0\" y=\"115\" font-size=\"11\">ATo</text><rect x=\"0\" y=\"75\" width=\"25\" height=\"25\" fill=\"#00ff00\"/><text x=\"0\" y=\"90\" font-size=\"11\">AJo</text><rect x=\"0\" y=\"50\" width=\"25\" height=\"25\" fill=\"#00ff00\"/><text x=\"0\" y=\"65\" font-size=\"11\">AQo</text><rect x=\"0\" y=\"25\" width=\"25\" height=\"25\" fill=\"#00ff00\"/><text x=\"0\" y=\"40\" font-size=\"11\">AKo</text><rect x=\"0\" y=\"0\" width=\"25\" height=\"25\" fill=\"#00ff00\"/><text x=\"0\" y=\"15\" font-size=\"11\">AAo</text></svg>"
      ],
      "text/plain": [
       "<IPython.core.display.SVG object>"
      ]
     },
     "metadata": {},
     "output_type": "display_data"
    },
    {
     "data": {
      "image/svg+xml": [
       "<svg xmlns=\"http://www.w3.org/2000/svg\" version=\"1.1\" width=\"325\" height=\"325\"><rect x=\"300\" y=\"300\" width=\"25\" height=\"25\" fill=\"#ffffff\"/><text x=\"300\" y=\"315\" font-size=\"11\">22o</text><rect x=\"300\" y=\"275\" width=\"25\" height=\"25\" fill=\"#ffffff\"/><text x=\"300\" y=\"290\" font-size=\"11\">32s</text><rect x=\"300\" y=\"250\" width=\"25\" height=\"25\" fill=\"#ffffff\"/><text x=\"300\" y=\"265\" font-size=\"11\">42s</text><rect x=\"300\" y=\"225\" width=\"25\" height=\"25\" fill=\"#ffffff\"/><text x=\"300\" y=\"240\" font-size=\"11\">52s</text><rect x=\"300\" y=\"200\" width=\"25\" height=\"25\" fill=\"#ffffff\"/><text x=\"300\" y=\"215\" font-size=\"11\">62s</text><rect x=\"300\" y=\"175\" width=\"25\" height=\"25\" fill=\"#ffffff\"/><text x=\"300\" y=\"190\" font-size=\"11\">72s</text><rect x=\"300\" y=\"150\" width=\"25\" height=\"25\" fill=\"#ffffff\"/><text x=\"300\" y=\"165\" font-size=\"11\">82s</text><rect x=\"300\" y=\"125\" width=\"25\" height=\"25\" fill=\"#ffffff\"/><text x=\"300\" y=\"140\" font-size=\"11\">92s</text><rect x=\"300\" y=\"100\" width=\"25\" height=\"25\" fill=\"#ffffff\"/><text x=\"300\" y=\"115\" font-size=\"11\">T2s</text><rect x=\"300\" y=\"75\" width=\"25\" height=\"25\" fill=\"#ffffff\"/><text x=\"300\" y=\"90\" font-size=\"11\">J2s</text><rect x=\"300\" y=\"50\" width=\"25\" height=\"25\" fill=\"#ffffff\"/><text x=\"300\" y=\"65\" font-size=\"11\">Q2s</text><rect x=\"300\" y=\"25\" width=\"25\" height=\"25\" fill=\"#00ff00\"/><text x=\"300\" y=\"40\" font-size=\"11\">K2s</text><rect x=\"300\" y=\"0\" width=\"25\" height=\"25\" fill=\"#00ff00\"/><text x=\"300\" y=\"15\" font-size=\"11\">A2s</text><rect x=\"275\" y=\"300\" width=\"25\" height=\"25\" fill=\"#ffffff\"/><text x=\"275\" y=\"315\" font-size=\"11\">32o</text><rect x=\"275\" y=\"275\" width=\"25\" height=\"25\" fill=\"#00ff00\"/><text x=\"275\" y=\"290\" font-size=\"11\">33o</text><rect x=\"275\" y=\"250\" width=\"25\" height=\"25\" fill=\"#ffffff\"/><text x=\"275\" y=\"265\" font-size=\"11\">43s</text><rect x=\"275\" y=\"225\" width=\"25\" height=\"25\" fill=\"#ffffff\"/><text x=\"275\" y=\"240\" font-size=\"11\">53s</text><rect x=\"275\" y=\"200\" width=\"25\" height=\"25\" fill=\"#ffffff\"/><text x=\"275\" y=\"215\" font-size=\"11\">63s</text><rect x=\"275\" y=\"175\" width=\"25\" height=\"25\" fill=\"#ffffff\"/><text x=\"275\" y=\"190\" font-size=\"11\">73s</text><rect x=\"275\" y=\"150\" width=\"25\" height=\"25\" fill=\"#ffffff\"/><text x=\"275\" y=\"165\" font-size=\"11\">83s</text><rect x=\"275\" y=\"125\" width=\"25\" height=\"25\" fill=\"#ffffff\"/><text x=\"275\" y=\"140\" font-size=\"11\">93s</text><rect x=\"275\" y=\"100\" width=\"25\" height=\"25\" fill=\"#ffffff\"/><text x=\"275\" y=\"115\" font-size=\"11\">T3s</text><rect x=\"275\" y=\"75\" width=\"25\" height=\"25\" fill=\"#ffffff\"/><text x=\"275\" y=\"90\" font-size=\"11\">J3s</text><rect x=\"275\" y=\"50\" width=\"25\" height=\"25\" fill=\"#00ff00\"/><text x=\"275\" y=\"65\" font-size=\"11\">Q3s</text><rect x=\"275\" y=\"25\" width=\"25\" height=\"25\" fill=\"#00ff00\"/><text x=\"275\" y=\"40\" font-size=\"11\">K3s</text><rect x=\"275\" y=\"0\" width=\"25\" height=\"25\" fill=\"#00ff00\"/><text x=\"275\" y=\"15\" font-size=\"11\">A3s</text><rect x=\"250\" y=\"300\" width=\"25\" height=\"25\" fill=\"#ffffff\"/><text x=\"250\" y=\"315\" font-size=\"11\">42o</text><rect x=\"250\" y=\"275\" width=\"25\" height=\"25\" fill=\"#ffffff\"/><text x=\"250\" y=\"290\" font-size=\"11\">43o</text><rect x=\"250\" y=\"250\" width=\"25\" height=\"25\" fill=\"#00ff00\"/><text x=\"250\" y=\"265\" font-size=\"11\">44o</text><rect x=\"250\" y=\"225\" width=\"25\" height=\"25\" fill=\"#ffffff\"/><text x=\"250\" y=\"240\" font-size=\"11\">54s</text><rect x=\"250\" y=\"200\" width=\"25\" height=\"25\" fill=\"#ffffff\"/><text x=\"250\" y=\"215\" font-size=\"11\">64s</text><rect x=\"250\" y=\"175\" width=\"25\" height=\"25\" fill=\"#ffffff\"/><text x=\"250\" y=\"190\" font-size=\"11\">74s</text><rect x=\"250\" y=\"150\" width=\"25\" height=\"25\" fill=\"#ffffff\"/><text x=\"250\" y=\"165\" font-size=\"11\">84s</text><rect x=\"250\" y=\"125\" width=\"25\" height=\"25\" fill=\"#ffffff\"/><text x=\"250\" y=\"140\" font-size=\"11\">94s</text><rect x=\"250\" y=\"100\" width=\"25\" height=\"25\" fill=\"#ffffff\"/><text x=\"250\" y=\"115\" font-size=\"11\">T4s</text><rect x=\"250\" y=\"75\" width=\"25\" height=\"25\" fill=\"#ffffff\"/><text x=\"250\" y=\"90\" font-size=\"11\">J4s</text><rect x=\"250\" y=\"50\" width=\"25\" height=\"25\" fill=\"#00ff00\"/><text x=\"250\" y=\"65\" font-size=\"11\">Q4s</text><rect x=\"250\" y=\"25\" width=\"25\" height=\"25\" fill=\"#00ff00\"/><text x=\"250\" y=\"40\" font-size=\"11\">K4s</text><rect x=\"250\" y=\"0\" width=\"25\" height=\"25\" fill=\"#00ff00\"/><text x=\"250\" y=\"15\" font-size=\"11\">A4s</text><rect x=\"225\" y=\"300\" width=\"25\" height=\"25\" fill=\"#ffffff\"/><text x=\"225\" y=\"315\" font-size=\"11\">52o</text><rect x=\"225\" y=\"275\" width=\"25\" height=\"25\" fill=\"#ffffff\"/><text x=\"225\" y=\"290\" font-size=\"11\">53o</text><rect x=\"225\" y=\"250\" width=\"25\" height=\"25\" fill=\"#ffffff\"/><text x=\"225\" y=\"265\" font-size=\"11\">54o</text><rect x=\"225\" y=\"225\" width=\"25\" height=\"25\" fill=\"#00ff00\"/><text x=\"225\" y=\"240\" font-size=\"11\">55o</text><rect x=\"225\" y=\"200\" width=\"25\" height=\"25\" fill=\"#ffffff\"/><text x=\"225\" y=\"215\" font-size=\"11\">65s</text><rect x=\"225\" y=\"175\" width=\"25\" height=\"25\" fill=\"#ffffff\"/><text x=\"225\" y=\"190\" font-size=\"11\">75s</text><rect x=\"225\" y=\"150\" width=\"25\" height=\"25\" fill=\"#ffffff\"/><text x=\"225\" y=\"165\" font-size=\"11\">85s</text><rect x=\"225\" y=\"125\" width=\"25\" height=\"25\" fill=\"#ffffff\"/><text x=\"225\" y=\"140\" font-size=\"11\">95s</text><rect x=\"225\" y=\"100\" width=\"25\" height=\"25\" fill=\"#ffffff\"/><text x=\"225\" y=\"115\" font-size=\"11\">T5s</text><rect x=\"225\" y=\"75\" width=\"25\" height=\"25\" fill=\"#ffffff\"/><text x=\"225\" y=\"90\" font-size=\"11\">J5s</text><rect x=\"225\" y=\"50\" width=\"25\" height=\"25\" fill=\"#00ff00\"/><text x=\"225\" y=\"65\" font-size=\"11\">Q5s</text><rect x=\"225\" y=\"25\" width=\"25\" height=\"25\" fill=\"#00ff00\"/><text x=\"225\" y=\"40\" font-size=\"11\">K5s</text><rect x=\"225\" y=\"0\" width=\"25\" height=\"25\" fill=\"#00ff00\"/><text x=\"225\" y=\"15\" font-size=\"11\">A5s</text><rect x=\"200\" y=\"300\" width=\"25\" height=\"25\" fill=\"#ffffff\"/><text x=\"200\" y=\"315\" font-size=\"11\">62o</text><rect x=\"200\" y=\"275\" width=\"25\" height=\"25\" fill=\"#ffffff\"/><text x=\"200\" y=\"290\" font-size=\"11\">63o</text><rect x=\"200\" y=\"250\" width=\"25\" height=\"25\" fill=\"#ffffff\"/><text x=\"200\" y=\"265\" font-size=\"11\">64o</text><rect x=\"200\" y=\"225\" width=\"25\" height=\"25\" fill=\"#ffffff\"/><text x=\"200\" y=\"240\" font-size=\"11\">65o</text><rect x=\"200\" y=\"200\" width=\"25\" height=\"25\" fill=\"#00ff00\"/><text x=\"200\" y=\"215\" font-size=\"11\">66o</text><rect x=\"200\" y=\"175\" width=\"25\" height=\"25\" fill=\"#ffffff\"/><text x=\"200\" y=\"190\" font-size=\"11\">76s</text><rect x=\"200\" y=\"150\" width=\"25\" height=\"25\" fill=\"#ffffff\"/><text x=\"200\" y=\"165\" font-size=\"11\">86s</text><rect x=\"200\" y=\"125\" width=\"25\" height=\"25\" fill=\"#ffffff\"/><text x=\"200\" y=\"140\" font-size=\"11\">96s</text><rect x=\"200\" y=\"100\" width=\"25\" height=\"25\" fill=\"#ffffff\"/><text x=\"200\" y=\"115\" font-size=\"11\">T6s</text><rect x=\"200\" y=\"75\" width=\"25\" height=\"25\" fill=\"#ffffff\"/><text x=\"200\" y=\"90\" font-size=\"11\">J6s</text><rect x=\"200\" y=\"50\" width=\"25\" height=\"25\" fill=\"#00ff00\"/><text x=\"200\" y=\"65\" font-size=\"11\">Q6s</text><rect x=\"200\" y=\"25\" width=\"25\" height=\"25\" fill=\"#00ff00\"/><text x=\"200\" y=\"40\" font-size=\"11\">K6s</text><rect x=\"200\" y=\"0\" width=\"25\" height=\"25\" fill=\"#00ff00\"/><text x=\"200\" y=\"15\" font-size=\"11\">A6s</text><rect x=\"175\" y=\"300\" width=\"25\" height=\"25\" fill=\"#ffffff\"/><text x=\"175\" y=\"315\" font-size=\"11\">72o</text><rect x=\"175\" y=\"275\" width=\"25\" height=\"25\" fill=\"#ffffff\"/><text x=\"175\" y=\"290\" font-size=\"11\">73o</text><rect x=\"175\" y=\"250\" width=\"25\" height=\"25\" fill=\"#ffffff\"/><text x=\"175\" y=\"265\" font-size=\"11\">74o</text><rect x=\"175\" y=\"225\" width=\"25\" height=\"25\" fill=\"#ffffff\"/><text x=\"175\" y=\"240\" font-size=\"11\">75o</text><rect x=\"175\" y=\"200\" width=\"25\" height=\"25\" fill=\"#ffffff\"/><text x=\"175\" y=\"215\" font-size=\"11\">76o</text><rect x=\"175\" y=\"175\" width=\"25\" height=\"25\" fill=\"#00ff00\"/><text x=\"175\" y=\"190\" font-size=\"11\">77o</text><rect x=\"175\" y=\"150\" width=\"25\" height=\"25\" fill=\"#ffffff\"/><text x=\"175\" y=\"165\" font-size=\"11\">87s</text><rect x=\"175\" y=\"125\" width=\"25\" height=\"25\" fill=\"#ffffff\"/><text x=\"175\" y=\"140\" font-size=\"11\">97s</text><rect x=\"175\" y=\"100\" width=\"25\" height=\"25\" fill=\"#ffffff\"/><text x=\"175\" y=\"115\" font-size=\"11\">T7s</text><rect x=\"175\" y=\"75\" width=\"25\" height=\"25\" fill=\"#00ff00\"/><text x=\"175\" y=\"90\" font-size=\"11\">J7s</text><rect x=\"175\" y=\"50\" width=\"25\" height=\"25\" fill=\"#00ff00\"/><text x=\"175\" y=\"65\" font-size=\"11\">Q7s</text><rect x=\"175\" y=\"25\" width=\"25\" height=\"25\" fill=\"#00ff00\"/><text x=\"175\" y=\"40\" font-size=\"11\">K7s</text><rect x=\"175\" y=\"0\" width=\"25\" height=\"25\" fill=\"#00ff00\"/><text x=\"175\" y=\"15\" font-size=\"11\">A7s</text><rect x=\"150\" y=\"300\" width=\"25\" height=\"25\" fill=\"#ffffff\"/><text x=\"150\" y=\"315\" font-size=\"11\">82o</text><rect x=\"150\" y=\"275\" width=\"25\" height=\"25\" fill=\"#ffffff\"/><text x=\"150\" y=\"290\" font-size=\"11\">83o</text><rect x=\"150\" y=\"250\" width=\"25\" height=\"25\" fill=\"#ffffff\"/><text x=\"150\" y=\"265\" font-size=\"11\">84o</text><rect x=\"150\" y=\"225\" width=\"25\" height=\"25\" fill=\"#ffffff\"/><text x=\"150\" y=\"240\" font-size=\"11\">85o</text><rect x=\"150\" y=\"200\" width=\"25\" height=\"25\" fill=\"#ffffff\"/><text x=\"150\" y=\"215\" font-size=\"11\">86o</text><rect x=\"150\" y=\"175\" width=\"25\" height=\"25\" fill=\"#ffffff\"/><text x=\"150\" y=\"190\" font-size=\"11\">87o</text><rect x=\"150\" y=\"150\" width=\"25\" height=\"25\" fill=\"#00ff00\"/><text x=\"150\" y=\"165\" font-size=\"11\">88o</text><rect x=\"150\" y=\"125\" width=\"25\" height=\"25\" fill=\"#00ff00\"/><text x=\"150\" y=\"140\" font-size=\"11\">98s</text><rect x=\"150\" y=\"100\" width=\"25\" height=\"25\" fill=\"#00ff00\"/><text x=\"150\" y=\"115\" font-size=\"11\">T8s</text><rect x=\"150\" y=\"75\" width=\"25\" height=\"25\" fill=\"#00ff00\"/><text x=\"150\" y=\"90\" font-size=\"11\">J8s</text><rect x=\"150\" y=\"50\" width=\"25\" height=\"25\" fill=\"#00ff00\"/><text x=\"150\" y=\"65\" font-size=\"11\">Q8s</text><rect x=\"150\" y=\"25\" width=\"25\" height=\"25\" fill=\"#00ff00\"/><text x=\"150\" y=\"40\" font-size=\"11\">K8s</text><rect x=\"150\" y=\"0\" width=\"25\" height=\"25\" fill=\"#00ff00\"/><text x=\"150\" y=\"15\" font-size=\"11\">A8s</text><rect x=\"125\" y=\"300\" width=\"25\" height=\"25\" fill=\"#ffffff\"/><text x=\"125\" y=\"315\" font-size=\"11\">92o</text><rect x=\"125\" y=\"275\" width=\"25\" height=\"25\" fill=\"#ffffff\"/><text x=\"125\" y=\"290\" font-size=\"11\">93o</text><rect x=\"125\" y=\"250\" width=\"25\" height=\"25\" fill=\"#ffffff\"/><text x=\"125\" y=\"265\" font-size=\"11\">94o</text><rect x=\"125\" y=\"225\" width=\"25\" height=\"25\" fill=\"#ffffff\"/><text x=\"125\" y=\"240\" font-size=\"11\">95o</text><rect x=\"125\" y=\"200\" width=\"25\" height=\"25\" fill=\"#ffffff\"/><text x=\"125\" y=\"215\" font-size=\"11\">96o</text><rect x=\"125\" y=\"175\" width=\"25\" height=\"25\" fill=\"#ffffff\"/><text x=\"125\" y=\"190\" font-size=\"11\">97o</text><rect x=\"125\" y=\"150\" width=\"25\" height=\"25\" fill=\"#ffffff\"/><text x=\"125\" y=\"165\" font-size=\"11\">98o</text><rect x=\"125\" y=\"125\" width=\"25\" height=\"25\" fill=\"#00ff00\"/><text x=\"125\" y=\"140\" font-size=\"11\">99o</text><rect x=\"125\" y=\"100\" width=\"25\" height=\"25\" fill=\"#00ff00\"/><text x=\"125\" y=\"115\" font-size=\"11\">T9s</text><rect x=\"125\" y=\"75\" width=\"25\" height=\"25\" fill=\"#00ff00\"/><text x=\"125\" y=\"90\" font-size=\"11\">J9s</text><rect x=\"125\" y=\"50\" width=\"25\" height=\"25\" fill=\"#00ff00\"/><text x=\"125\" y=\"65\" font-size=\"11\">Q9s</text><rect x=\"125\" y=\"25\" width=\"25\" height=\"25\" fill=\"#00ff00\"/><text x=\"125\" y=\"40\" font-size=\"11\">K9s</text><rect x=\"125\" y=\"0\" width=\"25\" height=\"25\" fill=\"#00ff00\"/><text x=\"125\" y=\"15\" font-size=\"11\">A9s</text><rect x=\"100\" y=\"300\" width=\"25\" height=\"25\" fill=\"#ffffff\"/><text x=\"100\" y=\"315\" font-size=\"11\">T2o</text><rect x=\"100\" y=\"275\" width=\"25\" height=\"25\" fill=\"#ffffff\"/><text x=\"100\" y=\"290\" font-size=\"11\">T3o</text><rect x=\"100\" y=\"250\" width=\"25\" height=\"25\" fill=\"#ffffff\"/><text x=\"100\" y=\"265\" font-size=\"11\">T4o</text><rect x=\"100\" y=\"225\" width=\"25\" height=\"25\" fill=\"#ffffff\"/><text x=\"100\" y=\"240\" font-size=\"11\">T5o</text><rect x=\"100\" y=\"200\" width=\"25\" height=\"25\" fill=\"#ffffff\"/><text x=\"100\" y=\"215\" font-size=\"11\">T6o</text><rect x=\"100\" y=\"175\" width=\"25\" height=\"25\" fill=\"#ffffff\"/><text x=\"100\" y=\"190\" font-size=\"11\">T7o</text><rect x=\"100\" y=\"150\" width=\"25\" height=\"25\" fill=\"#ffffff\"/><text x=\"100\" y=\"165\" font-size=\"11\">T8o</text><rect x=\"100\" y=\"125\" width=\"25\" height=\"25\" fill=\"#00ff00\"/><text x=\"100\" y=\"140\" font-size=\"11\">T9o</text><rect x=\"100\" y=\"100\" width=\"25\" height=\"25\" fill=\"#00ff00\"/><text x=\"100\" y=\"115\" font-size=\"11\">TTo</text><rect x=\"100\" y=\"75\" width=\"25\" height=\"25\" fill=\"#00ff00\"/><text x=\"100\" y=\"90\" font-size=\"11\">JTs</text><rect x=\"100\" y=\"50\" width=\"25\" height=\"25\" fill=\"#00ff00\"/><text x=\"100\" y=\"65\" font-size=\"11\">QTs</text><rect x=\"100\" y=\"25\" width=\"25\" height=\"25\" fill=\"#00ff00\"/><text x=\"100\" y=\"40\" font-size=\"11\">KTs</text><rect x=\"100\" y=\"0\" width=\"25\" height=\"25\" fill=\"#00ff00\"/><text x=\"100\" y=\"15\" font-size=\"11\">ATs</text><rect x=\"75\" y=\"300\" width=\"25\" height=\"25\" fill=\"#ffffff\"/><text x=\"75\" y=\"315\" font-size=\"11\">J2o</text><rect x=\"75\" y=\"275\" width=\"25\" height=\"25\" fill=\"#ffffff\"/><text x=\"75\" y=\"290\" font-size=\"11\">J3o</text><rect x=\"75\" y=\"250\" width=\"25\" height=\"25\" fill=\"#ffffff\"/><text x=\"75\" y=\"265\" font-size=\"11\">J4o</text><rect x=\"75\" y=\"225\" width=\"25\" height=\"25\" fill=\"#ffffff\"/><text x=\"75\" y=\"240\" font-size=\"11\">J5o</text><rect x=\"75\" y=\"200\" width=\"25\" height=\"25\" fill=\"#ffffff\"/><text x=\"75\" y=\"215\" font-size=\"11\">J6o</text><rect x=\"75\" y=\"175\" width=\"25\" height=\"25\" fill=\"#ffffff\"/><text x=\"75\" y=\"190\" font-size=\"11\">J7o</text><rect x=\"75\" y=\"150\" width=\"25\" height=\"25\" fill=\"#ffffff\"/><text x=\"75\" y=\"165\" font-size=\"11\">J8o</text><rect x=\"75\" y=\"125\" width=\"25\" height=\"25\" fill=\"#00ff00\"/><text x=\"75\" y=\"140\" font-size=\"11\">J9o</text><rect x=\"75\" y=\"100\" width=\"25\" height=\"25\" fill=\"#00ff00\"/><text x=\"75\" y=\"115\" font-size=\"11\">JTo</text><rect x=\"75\" y=\"75\" width=\"25\" height=\"25\" fill=\"#00ff00\"/><text x=\"75\" y=\"90\" font-size=\"11\">JJo</text><rect x=\"75\" y=\"50\" width=\"25\" height=\"25\" fill=\"#00ff00\"/><text x=\"75\" y=\"65\" font-size=\"11\">QJs</text><rect x=\"75\" y=\"25\" width=\"25\" height=\"25\" fill=\"#00ff00\"/><text x=\"75\" y=\"40\" font-size=\"11\">KJs</text><rect x=\"75\" y=\"0\" width=\"25\" height=\"25\" fill=\"#00ff00\"/><text x=\"75\" y=\"15\" font-size=\"11\">AJs</text><rect x=\"50\" y=\"300\" width=\"25\" height=\"25\" fill=\"#ffffff\"/><text x=\"50\" y=\"315\" font-size=\"11\">Q2o</text><rect x=\"50\" y=\"275\" width=\"25\" height=\"25\" fill=\"#ffffff\"/><text x=\"50\" y=\"290\" font-size=\"11\">Q3o</text><rect x=\"50\" y=\"250\" width=\"25\" height=\"25\" fill=\"#ffffff\"/><text x=\"50\" y=\"265\" font-size=\"11\">Q4o</text><rect x=\"50\" y=\"225\" width=\"25\" height=\"25\" fill=\"#ffffff\"/><text x=\"50\" y=\"240\" font-size=\"11\">Q5o</text><rect x=\"50\" y=\"200\" width=\"25\" height=\"25\" fill=\"#ffffff\"/><text x=\"50\" y=\"215\" font-size=\"11\">Q6o</text><rect x=\"50\" y=\"175\" width=\"25\" height=\"25\" fill=\"#00ff00\"/><text x=\"50\" y=\"190\" font-size=\"11\">Q7o</text><rect x=\"50\" y=\"150\" width=\"25\" height=\"25\" fill=\"#00ff00\"/><text x=\"50\" y=\"165\" font-size=\"11\">Q8o</text><rect x=\"50\" y=\"125\" width=\"25\" height=\"25\" fill=\"#00ff00\"/><text x=\"50\" y=\"140\" font-size=\"11\">Q9o</text><rect x=\"50\" y=\"100\" width=\"25\" height=\"25\" fill=\"#00ff00\"/><text x=\"50\" y=\"115\" font-size=\"11\">QTo</text><rect x=\"50\" y=\"75\" width=\"25\" height=\"25\" fill=\"#00ff00\"/><text x=\"50\" y=\"90\" font-size=\"11\">QJo</text><rect x=\"50\" y=\"50\" width=\"25\" height=\"25\" fill=\"#00ff00\"/><text x=\"50\" y=\"65\" font-size=\"11\">QQo</text><rect x=\"50\" y=\"25\" width=\"25\" height=\"25\" fill=\"#00ff00\"/><text x=\"50\" y=\"40\" font-size=\"11\">KQs</text><rect x=\"50\" y=\"0\" width=\"25\" height=\"25\" fill=\"#00ff00\"/><text x=\"50\" y=\"15\" font-size=\"11\">AQs</text><rect x=\"25\" y=\"300\" width=\"25\" height=\"25\" fill=\"#00ff00\"/><text x=\"25\" y=\"315\" font-size=\"11\">K2o</text><rect x=\"25\" y=\"275\" width=\"25\" height=\"25\" fill=\"#00ff00\"/><text x=\"25\" y=\"290\" font-size=\"11\">K3o</text><rect x=\"25\" y=\"250\" width=\"25\" height=\"25\" fill=\"#00ff00\"/><text x=\"25\" y=\"265\" font-size=\"11\">K4o</text><rect x=\"25\" y=\"225\" width=\"25\" height=\"25\" fill=\"#00ff00\"/><text x=\"25\" y=\"240\" font-size=\"11\">K5o</text><rect x=\"25\" y=\"200\" width=\"25\" height=\"25\" fill=\"#00ff00\"/><text x=\"25\" y=\"215\" font-size=\"11\">K6o</text><rect x=\"25\" y=\"175\" width=\"25\" height=\"25\" fill=\"#00ff00\"/><text x=\"25\" y=\"190\" font-size=\"11\">K7o</text><rect x=\"25\" y=\"150\" width=\"25\" height=\"25\" fill=\"#00ff00\"/><text x=\"25\" y=\"165\" font-size=\"11\">K8o</text><rect x=\"25\" y=\"125\" width=\"25\" height=\"25\" fill=\"#00ff00\"/><text x=\"25\" y=\"140\" font-size=\"11\">K9o</text><rect x=\"25\" y=\"100\" width=\"25\" height=\"25\" fill=\"#00ff00\"/><text x=\"25\" y=\"115\" font-size=\"11\">KTo</text><rect x=\"25\" y=\"75\" width=\"25\" height=\"25\" fill=\"#00ff00\"/><text x=\"25\" y=\"90\" font-size=\"11\">KJo</text><rect x=\"25\" y=\"50\" width=\"25\" height=\"25\" fill=\"#00ff00\"/><text x=\"25\" y=\"65\" font-size=\"11\">KQo</text><rect x=\"25\" y=\"25\" width=\"25\" height=\"25\" fill=\"#00ff00\"/><text x=\"25\" y=\"40\" font-size=\"11\">KKo</text><rect x=\"25\" y=\"0\" width=\"25\" height=\"25\" fill=\"#00ff00\"/><text x=\"25\" y=\"15\" font-size=\"11\">AKs</text><rect x=\"0\" y=\"300\" width=\"25\" height=\"25\" fill=\"#00ff00\"/><text x=\"0\" y=\"315\" font-size=\"11\">A2o</text><rect x=\"0\" y=\"275\" width=\"25\" height=\"25\" fill=\"#00ff00\"/><text x=\"0\" y=\"290\" font-size=\"11\">A3o</text><rect x=\"0\" y=\"250\" width=\"25\" height=\"25\" fill=\"#00ff00\"/><text x=\"0\" y=\"265\" font-size=\"11\">A4o</text><rect x=\"0\" y=\"225\" width=\"25\" height=\"25\" fill=\"#00ff00\"/><text x=\"0\" y=\"240\" font-size=\"11\">A5o</text><rect x=\"0\" y=\"200\" width=\"25\" height=\"25\" fill=\"#00ff00\"/><text x=\"0\" y=\"215\" font-size=\"11\">A6o</text><rect x=\"0\" y=\"175\" width=\"25\" height=\"25\" fill=\"#00ff00\"/><text x=\"0\" y=\"190\" font-size=\"11\">A7o</text><rect x=\"0\" y=\"150\" width=\"25\" height=\"25\" fill=\"#00ff00\"/><text x=\"0\" y=\"165\" font-size=\"11\">A8o</text><rect x=\"0\" y=\"125\" width=\"25\" height=\"25\" fill=\"#00ff00\"/><text x=\"0\" y=\"140\" font-size=\"11\">A9o</text><rect x=\"0\" y=\"100\" width=\"25\" height=\"25\" fill=\"#00ff00\"/><text x=\"0\" y=\"115\" font-size=\"11\">ATo</text><rect x=\"0\" y=\"75\" width=\"25\" height=\"25\" fill=\"#00ff00\"/><text x=\"0\" y=\"90\" font-size=\"11\">AJo</text><rect x=\"0\" y=\"50\" width=\"25\" height=\"25\" fill=\"#00ff00\"/><text x=\"0\" y=\"65\" font-size=\"11\">AQo</text><rect x=\"0\" y=\"25\" width=\"25\" height=\"25\" fill=\"#00ff00\"/><text x=\"0\" y=\"40\" font-size=\"11\">AKo</text><rect x=\"0\" y=\"0\" width=\"25\" height=\"25\" fill=\"#00ff00\"/><text x=\"0\" y=\"15\" font-size=\"11\">AAo</text></svg>"
      ],
      "text/plain": [
       "<IPython.core.display.SVG object>"
      ]
     },
     "metadata": {},
     "output_type": "display_data"
    }
   ],
   "source": [
    "from IPython.display import SVG, display\n",
    "from collections import defaultdict\n",
    "        \n",
    "def drawRange(r):\n",
    "    weights = defaultdict(int)\n",
    "    counts = defaultdict(int)\n",
    "    for i in range(numHoldemHands):\n",
    "        rank2, rank1, isSuited = intToHandMap[i]\n",
    "        hand = ranks[rank2] + ranks[rank1] + ('s' if isSuited else 'o')\n",
    "        weights[hand] += r[i]\n",
    "        counts[hand] += 1\n",
    "\n",
    "    svg = '<svg xmlns=\"http://www.w3.org/2000/svg\" version=\"1.1\" width=\"325\" height=\"325\">'\n",
    "    for i in range(len(ranks)):\n",
    "        for j in range(len(ranks)):\n",
    "            if i<j:\n",
    "                hand = ranks[j]+ranks[i]+'s'\n",
    "            else:\n",
    "                hand = ranks[i]+ranks[j]+'o'\n",
    "            frac = weights[hand] / counts[hand]\n",
    "            hexcolor = '#%02x%02x%02x' % (int(255*(1-frac)), 255, int(255*(1-frac)))\n",
    "            svg += '<rect x=\"' + str((len(ranks)-i-1)*25) + '\" y=\"' + str((len(ranks)-j-1)*25) \\\n",
    "                      + '\" width=\"25\" height=\"25\" fill=\"'+hexcolor+'\"></rect>'\n",
    "            svg += '<text x=\"' + str((len(ranks)-i-1)*25)+'\" y=\"'+str(((len(ranks)-j))*25-10) \\\n",
    "                      + '\" font-size=\"11\" >' + hand + '</text>'\n",
    "    svg += '</svg>'\n",
    "    \n",
    "    display(SVG(svg))\n",
    "\n",
    "drawRange(sbGIIRange)\n",
    "drawRange(bbGIIRange)"
   ]
  }
 ],
 "metadata": {
  "kernelspec": {
   "display_name": "Python 3 (ipykernel)",
   "language": "python",
   "name": "python3"
  },
  "language_info": {
   "codemirror_mode": {
    "name": "ipython",
    "version": 3
   },
   "file_extension": ".py",
   "mimetype": "text/x-python",
   "name": "python",
   "nbconvert_exporter": "python",
   "pygments_lexer": "ipython3",
   "version": "3.11.5"
  }
 },
 "nbformat": 4,
 "nbformat_minor": 5
}
