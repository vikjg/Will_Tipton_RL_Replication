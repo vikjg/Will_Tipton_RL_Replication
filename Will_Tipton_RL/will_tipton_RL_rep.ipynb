{
 "cells": [
  {
   "cell_type": "code",
   "execution_count": null,
   "id": "2a4948d0",
   "metadata": {},
   "outputs": [],
   "source": [
    "numHoldemHands = 1326  # nchoosek(52,2)\n",
    "ranks = ['2','3','4','5','6','7','8','9','T','J','Q','K','A']\n",
    "suits=['c','s','d','h']\n",
    "numRanks = len(ranks)\n",
    "numSuits = len(suits)\n",
    "\n",
    "# Input: N/A\n",
    "# Output:\n",
    "#   A map from int hand representation in [0,1235] to tuple of form\n",
    "#   (rank1, rank2, isSuited).\n",
    "def makeIntToHandMap():\n",
    "    result = [0 for i in range(numHoldemHands)]\n",
    "    c = 0\n",
    "    for r1 in range(numRanks):\n",
    "        for r2 in range(r1, numRanks):\n",
    "            for s1 in range(numSuits):\n",
    "                for s2 in range(numSuits):\n",
    "                    if r1 == r2 and s1 >= s2:\n",
    "                        continue\n",
    "                    # hand number c corresponds to holding\n",
    "                    # ranks[r2], suits[s2], ranks[r1], suits[s1]\n",
    "                    result[c] = (r2, r1, s1 == s2)\n",
    "                    c += 1\n",
    "    return result\n",
    "\n",
    "intToHandMap = makeIntToHandMap()"
   ]
  },
  {
   "cell_type": "code",
   "execution_count": null,
   "id": "6db5ef54",
   "metadata": {},
   "outputs": [],
   "source": [
    "import numpy as np\n",
    "pfeqs = np.loadtxt(\"pf_eqs.dat\")\n",
    "pfconfl = np.loadtxt(\"pf_confl.dat\")"
   ]
  },
  {
   "cell_type": "code",
   "execution_count": null,
   "id": "9575a926",
   "metadata": {},
   "outputs": [],
   "source": [
    "# Input:\n",
    "#   nHands: total number of simulations we plan to run\n",
    "#   i: current simulation number\n",
    "# Output:\n",
    "#   Fraction of the time we should choose our action randomly.\n",
    "def epsilon(nHands, i):\n",
    "    return (nHands - i) / nHands"
   ]
  },
  {
   "cell_type": "code",
   "execution_count": null,
   "id": "a0dfaef5",
   "metadata": {},
   "outputs": [],
   "source": [
    "nParams = 7\n",
    "\n",
    "# Input:\n",
    "#   hand: int hand between 0 and 1325\n",
    "#   isSB: boolean indicating whether position is SB, else BB\n",
    "#   isGII: boolean indicating whether action is GII, else FOLD\n",
    "# Output:\n",
    "#   numpy array containing features describing a state and action\n",
    "def phi(hand, isSB, isGII):\n",
    "    rank2, rank1, isSuited = intToHandMap[hand]\n",
    "    return np.array([1,\n",
    "                     rank2/numRanks if isGII else 0,\n",
    "                     rank1/numRanks if isGII else 0,\n",
    "                     abs(rank2-rank1)**0.25 if isGII else 0,\n",
    "                     1 if (isSuited and isGII) else 0,\n",
    "                     1 if isSB else 0,\n",
    "                     1 if isSB and isGII else 0,\n",
    "                    ], dtype=np.float64)"
   ]
  },
  {
   "cell_type": "code",
   "execution_count": null,
   "id": "b8a6d8dc",
   "metadata": {},
   "outputs": [],
   "source": [
    "# Inputs:\n",
    "#   theta: vector of parameters of our model\n",
    "#   phi: vector of features\n",
    "# Output:\n",
    "#   Qhat(phi; theta), an estimate of the action-value\n",
    "def evalModel(theta, phi):\n",
    "    return np.sum(theta * phi)"
   ]
  },
  {
   "cell_type": "code",
   "execution_count": null,
   "id": "396998cc",
   "metadata": {},
   "outputs": [],
   "source": [
    "# Input: N/A\n",
    "# Output: tuple of two random hand numbers representing hands\n",
    "#         that don't conflict.\n",
    "def dealCards():\n",
    "    hand1 = hand2 = 0\n",
    "    while not pfconfl[hand1, hand2]:\n",
    "        hand1 = np.random.randint(0, numHoldemHands)\n",
    "        hand2 = np.random.randint(0, numHoldemHands)\n",
    "    return hand1, hand2"
   ]
  },
  {
   "cell_type": "code",
   "execution_count": null,
   "id": "7c9c65d2",
   "metadata": {},
   "outputs": [],
   "source": [
    "# Input:\n",
    "#   theta: parameter for current model Qhat\n",
    "#   hand: hand number\n",
    "#   isSB: boolean position\n",
    "#   epsilon: chance of making a random move\n",
    "# Output:\n",
    "#   A tuple of form (isGII, qhat, phi) describing the action\n",
    "#   taken, its value, and its feature vector.\n",
    "def act(theta, hand, isSB, epsilon):\n",
    "    phiGII = phi(hand, isSB, True)\n",
    "    phiFOLD = phi(hand, isSB, False)\n",
    "    qGII = evalModel(theta, phiGII)\n",
    "    qFOLD = evalModel(theta, phiFOLD)\n",
    "    isGII = qGII > qFOLD\n",
    "    if np.random.rand() < epsilon/2:\n",
    "        isGII = not isGII\n",
    "    if isGII:\n",
    "        return isGII, qGII, phiGII\n",
    "    else:\n",
    "        return isGII, qFOLD, phiFOLD"
   ]
  },
  {
   "cell_type": "code",
   "execution_count": null,
   "id": "5c354108",
   "metadata": {},
   "outputs": [],
   "source": [
    "# Input:\n",
    "#   S: stack size at the beginning of the hand\n",
    "#   sbHand: SB hand number\n",
    "#   sbIsGII: boolean indicating SB's action\n",
    "#   bbHand: BB hand number\n",
    "#   bbIsGII: boolean indicating BB's action\n",
    "# Output:\n",
    "#   A tuple of the form (SB value, BB value) indicating each player's\n",
    "#   stack size at the end of the hand.\n",
    "def simulateHand(S, sbHand, sbIsGII, bbHand, bbIsGII):\n",
    "    if not sbIsGII:\n",
    "        return (S-0.5, S+0.5)\n",
    "    if not bbIsGII:\n",
    "        return (S+1, S-1)\n",
    "    # GII. Note: neglecting chops!\n",
    "    sbEquity = pfeqs[sbHand, bbHand]\n",
    "    if np.random.rand() < sbEquity:\n",
    "        return (2*S, 0)\n",
    "    return (0, 2*S)"
   ]
  },
  {
   "cell_type": "code",
   "execution_count": null,
   "id": "5e9e34a5",
   "metadata": {},
   "outputs": [],
   "source": [
    "# Input:\n",
    "#   S: effective stack size in BB\n",
    "#   nHands: number of random hands to play\n",
    "#   alpha: learning rate hyperparameter\n",
    "# Output:\n",
    "#   An 7-vector of weights parameterizing our linear model\n",
    "def mc(S, nHands, alpha):\n",
    "    # Start with a random guess for theta.\n",
    "    theta = np.random.rand(nParams)\n",
    "    for i in range (nHands):\n",
    "        sbHand, bbHand = dealCards()\n",
    "        # SB action\n",
    "        sbIsGII, sbQhat, sbPhi = act(theta, sbHand, True, epsilon(nHands, i))\n",
    "        # BB action\n",
    "        bbIsGII, bbQhat, bbPhi = act(theta, bbHand, False, epsilon(nHands, i))\n",
    "        # get result from environment\n",
    "        sbReward, bbReward = simulateHand(S, sbHand, sbIsGII, bbHand, bbIsGII)\n",
    "        # update the model using each player's results\n",
    "        theta += alpha * (sbReward-sbQhat) * sbPhi\n",
    "        theta += alpha * (bbReward-bbQhat) * bbPhi\n",
    "    return theta"
   ]
  },
  {
   "cell_type": "code",
   "execution_count": null,
   "id": "a6636869",
   "metadata": {},
   "outputs": [],
   "source": [
    "theta = mc(10, 10000000, 0.0001)\n",
    "print(theta)"
   ]
  }
 ],
 "metadata": {
  "kernelspec": {
   "display_name": "Python 3 (ipykernel)",
   "language": "python",
   "name": "python3"
  },
  "language_info": {
   "codemirror_mode": {
    "name": "ipython",
    "version": 3
   },
   "file_extension": ".py",
   "mimetype": "text/x-python",
   "name": "python",
   "nbconvert_exporter": "python",
   "pygments_lexer": "ipython3",
   "version": "3.11.4"
  }
 },
 "nbformat": 4,
 "nbformat_minor": 5
}
